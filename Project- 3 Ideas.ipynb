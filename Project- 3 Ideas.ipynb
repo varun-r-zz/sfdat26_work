{
 "cells": [
  {
   "cell_type": "markdown",
   "metadata": {},
   "source": [
    "### Option 1: Does Beer Consumption by US State/ by country help predict overall happiness?\n",
    "##### Why? Because I <3 Beer\n",
    "##### Data: \n",
    "National Institute on Alcohol Abuse- Consumption by state, five thirty-eight data on global Alcohol Consumption, World Happiness Report, Gallup Well Being Index\n",
    "##### Hypothesis: \n",
    "Beer Consumption does not predict overall happiness either on the state or national level\n",
    "##### Caveats:\n",
    "Look at three predictors- absolute Beer Consumption, Beer Consumption per Capita, & Beer consumption as % total Alcohol Consumption"
   ]
  },
  {
   "cell_type": "markdown",
   "metadata": {},
   "source": [
    "### Option 2: Do opinions on presidential candidates help predict the balance of power in the US House of Representatives?\n",
    "##### Why? Because we are in the most interesting election of all time\n",
    "##### Data: \n",
    "Five thirty eight/Politico/Real Clear Politics National poll data from past 10 presidential elections, Congressional balance of power data\n",
    "##### Hypothesis: \n",
    "National opinions and leanings on the presidential candidate/incumbent do not help predict the overall outcome of congressional elections\n",
    "##### Caveats:\n",
    "For presidential election years, look at head to head candidate opinion polls in month preceding election. For mid-term years look at overall job approval rating for incumbent in month preceding election"
   ]
  },
  {
   "cell_type": "markdown",
   "metadata": {},
   "source": [
    "### Option 3: Can we predict whether an Airbnb host is using the platform to run a full time ‘hotel’ using web-scraped/public data on Airbnb Hosts and Listings?\n",
    "##### Why? Because I briefly worked at Airbnb and am a fan of their data/product\n",
    "##### Data: \n",
    "Five thirty eight/Politico/Real Clear Politics National poll data from past 10 presidential elections, Congressional balance of power data\n",
    "##### Hypothesis: \n",
    "Listing availability, number of listings per host, and frequency of reviews cannot predict whether a host is using the platform to run a full time ‘hotel’\n",
    "##### Caveats:\n",
    "Restrict Analysis to Urban Markets with high number of Airbnb listings (Perhaps using listings available divided by population as a measure. (Example New York, San Francisco, Paris etc.)"
   ]
  },
  {
   "cell_type": "code",
   "execution_count": null,
   "metadata": {
    "collapsed": true
   },
   "outputs": [],
   "source": []
  }
 ],
 "metadata": {
  "anaconda-cloud": {},
  "kernelspec": {
   "display_name": "Python [Root]",
   "language": "python",
   "name": "Python [Root]"
  },
  "language_info": {
   "codemirror_mode": {
    "name": "ipython",
    "version": 2
   },
   "file_extension": ".py",
   "mimetype": "text/x-python",
   "name": "python",
   "nbconvert_exporter": "python",
   "pygments_lexer": "ipython2",
   "version": "2.7.12"
  }
 },
 "nbformat": 4,
 "nbformat_minor": 0
}
